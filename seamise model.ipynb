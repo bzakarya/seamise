{
 "cells": [
  {
   "cell_type": "markdown",
   "id": "85ab3ffb-8291-4ec9-aafc-b600163c246e",
   "metadata": {},
   "source": [
    "# siamese NN"
   ]
  },
  {
   "cell_type": "markdown",
   "id": "7f39dead-3bbd-4763-9e53-352c56221d56",
   "metadata": {},
   "source": [
    "## build layer 1"
   ]
  },
  {
   "cell_type": "code",
   "execution_count": 1,
   "id": "76db0e66-02b5-4285-b8c5-35caa8c23f3f",
   "metadata": {},
   "outputs": [],
   "source": [
    "# !pip install opencv-python\n",
    "# !pip install matplotlib\n",
    "# !pip install numpy"
   ]
  },
  {
   "cell_type": "code",
   "execution_count": 2,
   "id": "5f7f17ea-bd32-4cc7-b891-d15b14acc461",
   "metadata": {},
   "outputs": [],
   "source": [
    "import cv2\n",
    "import os\n",
    "import random\n",
    "import numpy as np\n",
    "from matplotlib import pyplot as plt"
   ]
  },
  {
   "cell_type": "code",
   "execution_count": 3,
   "id": "eb52f81e-c75d-42c0-9df8-944f89e2e763",
   "metadata": {},
   "outputs": [],
   "source": [
    "# !pip install tensorflow"
   ]
  },
  {
   "cell_type": "code",
   "execution_count": 4,
   "id": "0e8efb92-00bc-4890-b446-6dd5e83527b8",
   "metadata": {},
   "outputs": [],
   "source": [
    "from tensorflow.keras.models import Model \n",
    "from tensorflow.keras.layers import Layer, Conv2D, Dense, MaxPooling2D, Input, Flatten\n",
    "import tensorflow as tf"
   ]
  },
  {
   "cell_type": "markdown",
   "id": "21dfb401-9348-4a73-b410-3a84c9f87851",
   "metadata": {},
   "source": [
    "### build the first part of snn"
   ]
  },
  {
   "cell_type": "code",
   "execution_count": 5,
   "id": "0deb008d-6f86-44cb-9883-498b62831970",
   "metadata": {},
   "outputs": [],
   "source": [
    "def first_part_layer():\n",
    "    inp = Input(shape=(105,105,3), name='input image')\n",
    "    \n",
    "    # block 1\n",
    "    c1 = Conv2D(64, (10,10), activation='relu', name='c1')(inp)\n",
    "    m1 = MaxPooling2D(64, (2,2), padding='same', name='m1')(c1)\n",
    "                      \n",
    "    # block 2            \n",
    "    c2 = Conv2D(128, (7,7), activation='relu', name='c2')(m1)\n",
    "    m2 = MaxPooling2D(64, (2,2), padding='same', name='m2')(c2)\n",
    "                      \n",
    "    # block 3\n",
    "    c3 = Conv2D(128, (4,4), activation='relu', name='c3')(m2)\n",
    "    m3 = MaxPooling2D(64, (2,2), padding='same', name='m3')(c3)\n",
    "                      \n",
    "    # block 4\n",
    "    c4 = Conv2D(256, (4,4), activation='relu', name='c4')(m3)\n",
    "    f1 = Flatten()(c4)\n",
    "    d1 = Dense(4096, activation='sigmoid', name='d1')(f1)\n",
    "                      \n",
    "    return Model(inputs=[inp],outputs=[d1] ,name='make_first_layer')"
   ]
  },
  {
   "cell_type": "code",
   "execution_count": 6,
   "id": "4c5fd15a-f79f-4280-b959-5555cfd9771d",
   "metadata": {},
   "outputs": [
    {
     "name": "stdout",
     "output_type": "stream",
     "text": [
      "Model: \"make_first_layer\"\n",
      "_________________________________________________________________\n",
      " Layer (type)                Output Shape              Param #   \n",
      "=================================================================\n",
      " input image (InputLayer)    [(None, 105, 105, 3)]     0         \n",
      "                                                                 \n",
      " c1 (Conv2D)                 (None, 96, 96, 64)        19264     \n",
      "                                                                 \n",
      " m1 (MaxPooling2D)           (None, 48, 48, 64)        0         \n",
      "                                                                 \n",
      " c2 (Conv2D)                 (None, 42, 42, 128)       401536    \n",
      "                                                                 \n",
      " m2 (MaxPooling2D)           (None, 21, 21, 128)       0         \n",
      "                                                                 \n",
      " c3 (Conv2D)                 (None, 18, 18, 128)       262272    \n",
      "                                                                 \n",
      " m3 (MaxPooling2D)           (None, 9, 9, 128)         0         \n",
      "                                                                 \n",
      " c4 (Conv2D)                 (None, 6, 6, 256)         524544    \n",
      "                                                                 \n",
      " flatten (Flatten)           (None, 9216)              0         \n",
      "                                                                 \n",
      " d1 (Dense)                  (None, 4096)              37752832  \n",
      "                                                                 \n",
      "=================================================================\n",
      "Total params: 38,960,448\n",
      "Trainable params: 38,960,448\n",
      "Non-trainable params: 0\n",
      "_________________________________________________________________\n"
     ]
    }
   ],
   "source": [
    "first_part = first_part_layer()\n",
    "first_part.summary()"
   ]
  },
  {
   "cell_type": "markdown",
   "id": "233e5658-188d-4cfb-beb1-0b4c5dea592b",
   "metadata": {},
   "source": [
    "#### reate the distance class to comapre the two inputs"
   ]
  },
  {
   "cell_type": "code",
   "execution_count": 7,
   "id": "152844f2-a64a-4199-9e4d-0d4a78cbb2ec",
   "metadata": {},
   "outputs": [],
   "source": [
    "# didtatnce class\n",
    "class L1Dist(Layer):\n",
    "    def __init__(self,**kwargs):\n",
    "        super().__init__()\n",
    "    def call(self, input_mode, validation_mode):\n",
    "        return tf.math.abs(input_mode - validation_mode)"
   ]
  },
  {
   "cell_type": "markdown",
   "id": "23ec3f98-17bf-473c-952b-3f0bd0669ef9",
   "metadata": {},
   "source": [
    "## build the model"
   ]
  },
  {
   "cell_type": "code",
   "execution_count": 8,
   "id": "ca39a937-9238-434b-a752-0e782900687b",
   "metadata": {},
   "outputs": [],
   "source": [
    "def seamise_model():\n",
    "    #\n",
    "    input_image = Input(shape=(105,105,3), name='input image')\n",
    "    \n",
    "    #\n",
    "    validation_image = Input(shape=(105,105,3), name='validation image')\n",
    "    \n",
    "    # combine\n",
    "    siamese_layer = L1Dist()\n",
    "    siamese_layer._name = 'distance'\n",
    "    distances = siamese_layer(first_part(input_image), first_part(validation_image))\n",
    "    \n",
    "    # add dence layer \n",
    "    \n",
    "    classifier = Dense(1, activation = 'sigmoid')(distances)\n",
    "    \n",
    "    return  Model(inputs=[input_image, validation_image] ,outputs = classifier, name='SiameseNetwork')\n",
    "    "
   ]
  },
  {
   "cell_type": "code",
   "execution_count": 9,
   "id": "1462e893-7b99-4a97-88d8-242094a7d9f8",
   "metadata": {},
   "outputs": [],
   "source": [
    "Siamese_Network = seamise_model()"
   ]
  },
  {
   "cell_type": "code",
   "execution_count": 10,
   "id": "e4547ab1-9762-43aa-a226-5ac7c27bba14",
   "metadata": {},
   "outputs": [
    {
     "name": "stdout",
     "output_type": "stream",
     "text": [
      "Model: \"SiameseNetwork\"\n",
      "__________________________________________________________________________________________________\n",
      " Layer (type)                   Output Shape         Param #     Connected to                     \n",
      "==================================================================================================\n",
      " input image (InputLayer)       [(None, 105, 105, 3  0           []                               \n",
      "                                )]                                                                \n",
      "                                                                                                  \n",
      " validation image (InputLayer)  [(None, 105, 105, 3  0           []                               \n",
      "                                )]                                                                \n",
      "                                                                                                  \n",
      " make_first_layer (Functional)  (None, 4096)         38960448    ['input image[0][0]',            \n",
      "                                                                  'validation image[0][0]']       \n",
      "                                                                                                  \n",
      " distance (L1Dist)              (None, 4096)         0           ['make_first_layer[0][0]',       \n",
      "                                                                  'make_first_layer[1][0]']       \n",
      "                                                                                                  \n",
      " dense (Dense)                  (None, 1)            4097        ['distance[0][0]']               \n",
      "                                                                                                  \n",
      "==================================================================================================\n",
      "Total params: 38,964,545\n",
      "Trainable params: 38,964,545\n",
      "Non-trainable params: 0\n",
      "__________________________________________________________________________________________________\n"
     ]
    }
   ],
   "source": [
    "Siamese_Network.summary()"
   ]
  },
  {
   "cell_type": "code",
   "execution_count": null,
   "id": "d8316d47-4393-4b79-94e7-0b42c4e1dfb8",
   "metadata": {},
   "outputs": [],
   "source": []
  }
 ],
 "metadata": {
  "kernelspec": {
   "display_name": "Python 3 (ipykernel)",
   "language": "python",
   "name": "python3"
  },
  "language_info": {
   "codemirror_mode": {
    "name": "ipython",
    "version": 3
   },
   "file_extension": ".py",
   "mimetype": "text/x-python",
   "name": "python",
   "nbconvert_exporter": "python",
   "pygments_lexer": "ipython3",
   "version": "3.8.0"
  }
 },
 "nbformat": 4,
 "nbformat_minor": 5
}
